{
 "cells": [
  {
   "cell_type": "code",
   "execution_count": 3,
   "id": "6ea9ba68-a549-43f2-87b4-87f5e39b7f65",
   "metadata": {},
   "outputs": [
    {
     "name": "stdout",
     "output_type": "stream",
     "text": [
      "a+b= 30\n",
      "a-b= -10\n",
      "a*b= 200\n",
      "a/b= 0.5\n"
     ]
    }
   ],
   "source": [
    "a=10\n",
    "b=20\n",
    "print(\"a+b=\",a+b)\n",
    "print(\"a-b=\",a-b)\n",
    "print(\"a*b=\",a*b)\n",
    "print(\"a/b=\",a/b)"
   ]
  },
  {
   "cell_type": "code",
   "execution_count": 4,
   "id": "cee38d07-817a-464c-bce8-2700ed17365e",
   "metadata": {},
   "outputs": [
    {
     "name": "stdout",
     "output_type": "stream",
     "text": [
      "a==b False\n",
      "a!=b True\n",
      "a<b True\n",
      "a>b False\n",
      "a<=b True\n",
      "a>=b False\n"
     ]
    }
   ],
   "source": [
    "a=10\n",
    "b=20\n",
    "print(\"a==b\",a==b)\n",
    "print(\"a!=b\",a!=b)\n",
    "print(\"a<b\",a<b)\n",
    "print(\"a>b\",a>b)\n",
    "print(\"a<=b\",a<=b)\n",
    "print(\"a>=b\",a>=b)"
   ]
  },
  {
   "cell_type": "code",
   "execution_count": 6,
   "id": "a70315b1-e35e-4322-b768-31db7310dc0f",
   "metadata": {},
   "outputs": [
    {
     "name": "stdout",
     "output_type": "stream",
     "text": [
      "a and b 20\n",
      "a or b 10\n",
      "not b False\n"
     ]
    }
   ],
   "source": [
    "a=10\n",
    "b=20\n",
    "print(\"a and b\",a and b)\n",
    "print(\"a or b\",a or b)\n",
    "print(\"not b\",not b)"
   ]
  },
  {
   "cell_type": "code",
   "execution_count": 18,
   "id": "93112d57-47ce-464d-85e7-f87896b29f36",
   "metadata": {},
   "outputs": [
    {
     "name": "stdout",
     "output_type": "stream",
     "text": [
      "a&b 20\n",
      "~a -61\n",
      "a|b 60\n",
      "a^b 40\n",
      "a>>2 15\n"
     ]
    }
   ],
   "source": [
    "a=60\n",
    "b=20\n",
    "c=a&b\n",
    "print(\"a&b\",c)\n",
    "c=~a\n",
    "print(\"~a\",c)\n",
    "c=a|b\n",
    "print(\"a|b\",c)\n",
    "c=a^b\n",
    "print(\"a^b\",c)\n",
    "c=a>>2\n",
    "print(\"a>>2\",c)"
   ]
  },
  {
   "cell_type": "code",
   "execution_count": 21,
   "id": "88959edf-3b75-4315-9721-494fb1ec197c",
   "metadata": {},
   "outputs": [
    {
     "name": "stdout",
     "output_type": "stream",
     "text": [
      "a+=5 15\n",
      "a-=5 10\n",
      "a*=2 20\n",
      "a/=2 10.0\n",
      "a%=5 0.0\n",
      "a**=2 0.0\n",
      "a//=5 0.0\n"
     ]
    }
   ],
   "source": [
    "a=10\n",
    "a+=5\n",
    "print(\"a+=5\",a)\n",
    "a-=5\n",
    "print(\"a-=5\",a)\n",
    "a*=2\n",
    "print(\"a*=2\",a)\n",
    "a/=2\n",
    "print(\"a/=2\",a)\n",
    "a%=5\n",
    "print(\"a%=5\",a)\n",
    "a**=2\n",
    "print(\"a**=2\",a)\n",
    "a//=5\n",
    "print(\"a//=5\",a)"
   ]
  },
  {
   "cell_type": "code",
   "execution_count": 23,
   "id": "2f0c602a-ab2f-4771-a21f-6dfda499eb58",
   "metadata": {},
   "outputs": [
    {
     "name": "stdout",
     "output_type": "stream",
     "text": [
      "3 in a True\n",
      "6 in a False\n",
      "3 in a False\n",
      "6 in a True\n"
     ]
    }
   ],
   "source": [
    "a=(1,2,3,4,5)\n",
    "print(\"3 in a\",3 in a)\n",
    "print(\"6 in a\",6 in a)\n",
    "\n",
    "print(\"3 in a\",3 not in a)\n",
    "print(\"6 in a\",6 not in a)"
   ]
  },
  {
   "cell_type": "code",
   "execution_count": null,
   "id": "515c2ef6-d325-489b-90c3-daad01b02752",
   "metadata": {},
   "outputs": [],
   "source": [
    "a=(1,2,3,4,5)\n",
    "b=a\n",
    "c=(1,2,3)\n",
    "print(\"a is b\",a is b)\n",
    "print(\"a is not c\",6 in a)"
   ]
  }
 ],
 "metadata": {
  "kernelspec": {
   "display_name": "Python 3 (ipykernel)",
   "language": "python",
   "name": "python3"
  },
  "language_info": {
   "codemirror_mode": {
    "name": "ipython",
    "version": 3
   },
   "file_extension": ".py",
   "mimetype": "text/x-python",
   "name": "python",
   "nbconvert_exporter": "python",
   "pygments_lexer": "ipython3",
   "version": "3.12.3"
  }
 },
 "nbformat": 4,
 "nbformat_minor": 5
}
