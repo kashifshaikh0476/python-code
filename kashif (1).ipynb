{
 "cells": [
  {
   "cell_type": "code",
   "execution_count": 1,
   "id": "ef89c958",
   "metadata": {},
   "outputs": [
    {
     "name": "stdout",
     "output_type": "stream",
     "text": [
      "enter student name: kashif\n",
      "enter students rollno: 04\n",
      "enter youre age17\n",
      "enter students marks90\n",
      "enter mobile no: 9765078619\n",
      "enter the address: asdflkjh asdflkjh asddflkjh asdfl lkjh sdjfhksadh f jh jifhdjskfh udhfvjhvjkghgweiuf wueh fjkbfjkbsdcv\n",
      "the name is:  kashif\n",
      "the rollno is:  4\n",
      "the age is:  17\n",
      "the marks is:  90\n",
      "mobile no is:  9765078619\n",
      "address is:  asdflkjh asdflkjh asddflkjh asdfl lkjh sdjfhksadh f jh jifhdjskfh udhfvjhvjkghgweiuf wueh fjkbfjkbsdcv\n"
     ]
    }
   ],
   "source": [
    "name=input(\"enter student name: \")\n",
    "rollno=int (input(\"enter students rollno: \"))\n",
    "age=int (input(\"enter youre age\"))\n",
    "marks=int (input(\"enter students marks\"))\n",
    "mobile=int (input(\"enter mobile no: \"))\n",
    "addres=(input(\"enter the address: \"))\n",
    "print(\"the name is: \",name)\n",
    "print(\"the rollno is: \",rollno)\n",
    "print(\"the age is: \",age)\n",
    "print(\"the marks is: \",marks)\n",
    "print(\"mobile no is: \",mobile)\n",
    "print(\"address is: \",addres)"
   ]
  },
  {
   "cell_type": "code",
   "execution_count": null,
   "id": "98d24003",
   "metadata": {},
   "outputs": [],
   "source": []
  }
 ],
 "metadata": {
  "kernelspec": {
   "display_name": "Python 3 (ipykernel)",
   "language": "python",
   "name": "python3"
  },
  "language_info": {
   "codemirror_mode": {
    "name": "ipython",
    "version": 3
   },
   "file_extension": ".py",
   "mimetype": "text/x-python",
   "name": "python",
   "nbconvert_exporter": "python",
   "pygments_lexer": "ipython3",
   "version": "3.10.9"
  }
 },
 "nbformat": 4,
 "nbformat_minor": 5
}
